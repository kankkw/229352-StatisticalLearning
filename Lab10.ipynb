{
  "cells": [
    {
      "cell_type": "markdown",
      "metadata": {
        "id": "view-in-github",
        "colab_type": "text"
      },
      "source": [
        "<a href=\"https://colab.research.google.com/github/kankkw/229352-StatisticalLearning/blob/main/Lab10.ipynb\" target=\"_parent\"><img src=\"https://colab.research.google.com/assets/colab-badge.svg\" alt=\"Open In Colab\"/></a>"
      ]
    },
    {
      "cell_type": "markdown",
      "metadata": {
        "id": "rUWDxJYaXbGS"
      },
      "source": [
        "ปฏิบัติการครั้งที่ 10 กระบวนวิชา 229351 Statistical Learning for Data Science\n",
        "\n",
        "คำชี้แจง\n",
        "\n",
        "1. ให้เริ่มทำปฏิบัติการจาก colab notebook/ipynb ที่กำหนดให้ จากนั้น share แล้วส่ง link ใน Mango"
      ]
    },
    {
      "cell_type": "markdown",
      "metadata": {
        "id": "BFeBRlckOxSG"
      },
      "source": [
        "ดาวน์โหลดข้อมูลผู้รับวินิจฉัยโรคหัวใจใน link ข้างล่างนี้  \n",
        "https://donlapark.pages.dev/229351/data/framingham.csv"
      ]
    },
    {
      "cell_type": "code",
      "execution_count": null,
      "metadata": {
        "id": "ntO6KNB7A24q"
      },
      "outputs": [],
      "source": [
        "# uploading the csv file to colab\n",
        "\n",
        "!wget -O framingham.csv https://donlapark.pages.dev/229351/data/framingham.csv"
      ]
    },
    {
      "cell_type": "code",
      "execution_count": null,
      "metadata": {
        "id": "5Tebr3-dBKxj"
      },
      "outputs": [],
      "source": [
        "# import module ที่ต้องใช้\n",
        "import numpy as np\n",
        "import pandas as pd\n",
        "import matplotlib.pyplot as plt"
      ]
    },
    {
      "cell_type": "code",
      "execution_count": null,
      "metadata": {
        "id": "2SAbpyMIz7R8"
      },
      "outputs": [],
      "source": [
        "data = pd.read_csv('framingham.csv')\n",
        "\n",
        "#drop rows with missing values\n",
        "data = data.dropna()\n",
        "\n",
        "print(data.info())\n",
        "\n",
        "data.head()"
      ]
    },
    {
      "cell_type": "markdown",
      "metadata": {
        "id": "mwzYtpn6UdPQ"
      },
      "source": [
        "### ตัวแปรตามคือ `TenYearCHD` มีค่าเป็น 1 เมื่อผู้มาใช้บริการมีโรคหัวใจภายใน 10 ปีหลังจากการตรวจสุขภาพ"
      ]
    },
    {
      "cell_type": "markdown",
      "metadata": {
        "id": "RmnLgbgJamkq"
      },
      "source": [
        "### แบ่งเป็นตัวแปรต้น `X` กับตัวแปรตาม `y`"
      ]
    },
    {
      "cell_type": "code",
      "execution_count": null,
      "metadata": {
        "id": "BUBD04z7akHF"
      },
      "outputs": [],
      "source": [
        "y = data['TenYearCHD']\n",
        "\n",
        "X = data.drop(['TenYearCHD'], axis = 1)"
      ]
    },
    {
      "cell_type": "markdown",
      "metadata": {
        "id": "zwIhTrFqVTyY"
      },
      "source": [
        "### สร้าง Logistic regression\n",
        "\n",
        "$$ p(y=1|x_1,\\ldots,x_p) = \\frac{1}{1+e^{-(a_0+a_1x_1+\\ldots+a_px_p)}} $$"
      ]
    },
    {
      "cell_type": "markdown",
      "source": [
        "### วิธีที่ 1: ใช้ `scikit-learn` ([Documentation](https://scikit-learn.org/stable/modules/generated/sklearn.linear_model.LogisticRegression.html))"
      ],
      "metadata": {
        "id": "xLBHxpNobQhh"
      }
    },
    {
      "cell_type": "code",
      "execution_count": null,
      "metadata": {
        "id": "FNq4jClXTzaT"
      },
      "outputs": [],
      "source": [
        "from sklearn.linear_model import LogisticRegression\n",
        "\n",
        "# สร้าง model object ก่อน\n",
        "# ตั้ง random state ให้เป็น 0 เพื่อให้ผลลัพธ์ของทุกคนเหมือนกัน\n",
        "model = LogisticRegression()\n",
        "\n",
        "# แล้วค่อยใส่ข้อมูลโดยใช้ `fit`\n",
        "model.fit(X,y)"
      ]
    },
    {
      "cell_type": "markdown",
      "metadata": {
        "id": "vYUMItJ_iquk"
      },
      "source": [
        "### Warning บอกว่ามีปํญหาในการ optimize เนื่องจากบางค่าใน `X` มีขนาดใหญ่เกินไป (ตัวอย่างเช่นตัวแปร `totChol` มีค่า `>200`)\n",
        "\n",
        "### เป็นตัวอย่างหนึ่งที่แสดงให้เห็นถึงความสำคัญของ standardization (ปรับให้ mean ของแต่ละตัวแปรเป็น 0 และ s.d. เป็น 1)  \n",
        "\n",
        "### สมมติให้ `X1` เป็นตัวแปรหนึ่งใน dataset  \n",
        "\n",
        "### Standardization ทำโดยการแปลง `X1 -> (X1 - mean(X1))/(s.d.(X1))`"
      ]
    },
    {
      "cell_type": "code",
      "execution_count": null,
      "metadata": {
        "id": "r0eD9YVSd8HF"
      },
      "outputs": [],
      "source": [
        "X.std()"
      ]
    },
    {
      "cell_type": "code",
      "execution_count": null,
      "metadata": {
        "id": "hAcpj2L5j6ba"
      },
      "outputs": [],
      "source": [
        "# Standardization\n",
        "X_s = (X-X.mean())/X.std()\n",
        "\n",
        "X_s"
      ]
    },
    {
      "cell_type": "markdown",
      "metadata": {
        "id": "TnfNV5gfkb7F"
      },
      "source": [
        "### ใช้ `X_s` แทน `X` แล้ว warning จะหายไป"
      ]
    },
    {
      "cell_type": "code",
      "execution_count": null,
      "metadata": {
        "id": "cDObd9DskP7V"
      },
      "outputs": [],
      "source": [
        "# warning จะหายไป\n",
        "model.fit(X_s,y)"
      ]
    },
    {
      "cell_type": "code",
      "execution_count": null,
      "metadata": {
        "id": "6njJmujsAUNv"
      },
      "outputs": [],
      "source": [
        "# ดู intercept (a_0) ที่ได้โดยใช้\n",
        "print('intercept:',model.intercept_)\n",
        "\n",
        "# ดู coefficient ที่เหลือทั้งหมด (a_1,a_2,...,a_p) โดยใช้\n",
        "print('coefficients:',model.coef_)"
      ]
    },
    {
      "cell_type": "markdown",
      "metadata": {
        "id": "CePUIQL7ujg9"
      },
      "source": [
        "### ดูผลจากการใช้โมเดลแบ่งกลุ่ม `X_s` โดยใช้ `model.predict(X_s)`"
      ]
    },
    {
      "cell_type": "code",
      "execution_count": null,
      "metadata": {
        "id": "awvDOk0RUb0Q"
      },
      "outputs": [],
      "source": [
        "y_pred = model.predict(X_s)\n",
        "\n",
        "print(y_pred)"
      ]
    },
    {
      "cell_type": "markdown",
      "metadata": {
        "id": "e64ZLM0Vm8T4"
      },
      "source": [
        "### โมเดลแบ่งให้ข้อมูลส่วนใหญ่อยู่ในกลุ่มที่ 0 ทำให้เราไม่มั่นใจว่ามีข้อมูลที่ถูกแบ่งให้อยู่ในกลุ่มที่ 1 หรือไม่\n",
        "\n",
        "### สามารถนับจำนวนข้อมูลที่ถูกแบ่งให้อยู่ในกลุ่มที่ 1 โดยคำนวณผลบวกของตัวเลขทั้งหมดที่อยู่ใน `y_pred`"
      ]
    },
    {
      "cell_type": "code",
      "execution_count": null,
      "metadata": {
        "id": "vCl5Lve9au3u"
      },
      "outputs": [],
      "source": [
        "# คำนวณผลบวกของตัวเลขทั้งหมดที่อยู่ใน y_pred\n",
        "\n",
        "print(y_pred.sum())"
      ]
    },
    {
      "cell_type": "code",
      "execution_count": null,
      "metadata": {
        "id": "EQt4IcbNgNXe"
      },
      "outputs": [],
      "source": [
        "y"
      ]
    },
    {
      "cell_type": "markdown",
      "metadata": {
        "id": "RIgsZGd5rjJ_"
      },
      "source": [
        "### เราสามารถสร้าง array ที่ตรวจสอบว่าค่าที่ model ทำนาย (`y_pred`) ตรงกับค่าที่แท้จริง (`y`) หรือไม่โดยใช้ `y==y_pred`\n",
        "\n",
        "| y | y_pred |       | y == y_pred |\n",
        "|:------:|:------:|:-----:|:----------------:|\n",
        "|    1   |    1   | $\\to$ |         1        |\n",
        "|    0   |    0   | $\\to$ |         1        |\n",
        "|    0   |    1   | $\\to$ |         0        |\n",
        "|    1   |    0   | $\\to$ |         0        |"
      ]
    },
    {
      "cell_type": "code",
      "execution_count": null,
      "metadata": {
        "id": "kUbwk_WAtr0L"
      },
      "outputs": [],
      "source": [
        "# จะเห็นว่าโมเดลแบ่งกลุ่มให้ข้อมูลชิ้นที่ 3 ไม่ตรงกับกลุ่มที่แท้จริง\n",
        "\n",
        "y == y_pred"
      ]
    },
    {
      "cell_type": "code",
      "execution_count": null,
      "metadata": {
        "id": "ORByDG5Pg6h_"
      },
      "outputs": [],
      "source": [
        "True + False"
      ]
    },
    {
      "cell_type": "markdown",
      "metadata": {
        "id": "itUn-h84w_4P"
      },
      "source": [
        "### จากตรงนี้ เราสามารถนับจำนวนข้อมูลที่โมเดลแบ่งกลุ่มได้ถูกต้องโดยใช้ `(y == y_pred).sum()` (เพราะว่าในการบวกค่า boolean นั้น `True`=0 และ `False`=1)"
      ]
    },
    {
      "cell_type": "code",
      "execution_count": null,
      "metadata": {
        "id": "dYUrWne4wcgp"
      },
      "outputs": [],
      "source": [
        "(y == y_pred).sum()"
      ]
    },
    {
      "cell_type": "markdown",
      "metadata": {
        "id": "iORnr4Hlu1VD"
      },
      "source": [
        "## Exercise 1:\n",
        "\n",
        "### ให้ `y_true` เป็นค่าที่แท้จริงทั้งหมด และ `y_pred` เป็นค่าที่โมเดลทำนายทั้งหมด ค่า accuracy คำนวณได้จาก\n",
        "\n",
        "$$\\text{Accuracy} = \\frac{\\# (\\texttt{y_true} = \\texttt{y_pred})}{N}$$\n",
        "\n",
        "### โดยที่ $N$ คือจำนวนข้อมูลทั้งหมด\n",
        "\n",
        "### จงสร้างฟังก์ชันที่คำนวณค่า Accuracy โดยมี inputs เป็น `y_true` และ `y_pred`\n",
        "\n",
        "### Hint: ใช้ `y_true.shape[0]` ในการนับจำนวนข้อมูลทั้งหมด"
      ]
    },
    {
      "cell_type": "code",
      "source": [
        "def accuracy(y_true, y_pred):\n",
        "  '''\n",
        "  y_true: numpy array of true labels\n",
        "  y_pred: numpy array of model's classifications\n",
        "  Return: the accuracy of the model\n",
        "  '''\n",
        "  y_true = np.asarray(y_true).ravel()\n",
        "  y_pred = np.asarray(y_pred).ravel()\n",
        "  return np.mean(y_true == y_pred)\n",
        "\n",
        "# ทดสอบฟังก์ชัน accuracy\n",
        "print(accuracy(np.array([1,0,0,0]),np.array([0,1,1,1]))) #ควรจะได้ 0\n",
        "print(accuracy(np.array([1,0,0,0]),np.array([1,0,0,0]))) #ควรจะได้ 1\n",
        "print(accuracy(np.array([1,1,0,0]),np.array([1,0,1,1]))) #ควรจะได้ 0.25"
      ],
      "metadata": {
        "id": "Y9e-poZPSNNG"
      },
      "execution_count": null,
      "outputs": []
    },
    {
      "cell_type": "markdown",
      "metadata": {
        "id": "-PdxE5OSEBi6"
      },
      "source": [
        "## Exercise 2:\n",
        "\n",
        "จงคำนวณ accuracy ของโมเดล logistic regression ที่ได้ข้างบน"
      ]
    },
    {
      "cell_type": "code",
      "execution_count": null,
      "metadata": {
        "id": "odmBwffZD_uP"
      },
      "outputs": [],
      "source": [
        "acc_sklearn = accuracy(y, y_pred)\n",
        "print(\"Accuracy (LogisticRegression, sklearn):\", acc_sklearn)"
      ]
    },
    {
      "cell_type": "markdown",
      "source": [
        "### วิธีที่ 2: ใช้ `Logit` จาก `statsmodels` ([Documentation](https://www.statsmodels.org/stable/generated/statsmodels.discrete.discrete_model.Logit.html))"
      ],
      "metadata": {
        "id": "4c-SHVTMcT9q"
      }
    },
    {
      "cell_type": "markdown",
      "metadata": {
        "id": "EghUU2FY2j7X"
      },
      "source": [
        "### ดูค่า Z-value และ p-value ของแต่ละตัวแปร"
      ]
    },
    {
      "cell_type": "code",
      "execution_count": null,
      "metadata": {
        "id": "yyxg_HLE5ZZW"
      },
      "outputs": [],
      "source": [
        "from statsmodels.discrete.discrete_model import Logit\n",
        "\n",
        "# โมเดลชื่อ logit\n",
        "logit = Logit(y, X_s)\n",
        "\n",
        "# จะเห็นว่า syntax ของ statsmodels นั้นใส่ข้อมูลก่อนแล้วค่อย fit\n",
        "logit_fitted = logit.fit()\n",
        "\n",
        "logit_fitted.summary()"
      ]
    },
    {
      "cell_type": "markdown",
      "metadata": {
        "id": "O3JIjLO17HKf"
      },
      "source": [
        "## Exercise 3:\n",
        "\n",
        "### จงระบุว่ามีตัวแปรไหนบ้างที่มีความสำคัญที่ระดับนัยสำคัญ 0.1"
      ]
    },
    {
      "cell_type": "markdown",
      "metadata": {
        "id": "m6GMSvgW7ePH"
      },
      "source": [
        "คำตอบ\n",
        "ตัวแปรที่มีนัยสำคัญที่ระดับ 0.1 ได้แก่:\n",
        "\n",
        "- male  \n",
        "- age  \n",
        "- cigsPerDay  \n",
        "- prevalentHyp  \n",
        "- totChol  \n",
        "- sysBP  \n",
        "- glucose"
      ]
    },
    {
      "cell_type": "markdown",
      "metadata": {
        "id": "l4N4JFKj8GSL"
      },
      "source": [
        "### ผลลัพธ์ที่ได้จากการใช้ `predict` จะแตกต่างจาก `scikit-learn` ตรงที่ output เป็น**ค่าความน่าจะเป็น** ไม่ใช่ค่าการแบ่งกลุ่ม"
      ]
    },
    {
      "cell_type": "code",
      "execution_count": null,
      "metadata": {
        "id": "FP5bvaxQ3ZYf"
      },
      "outputs": [],
      "source": [
        "logit_fitted.predict(X_s)"
      ]
    },
    {
      "cell_type": "markdown",
      "metadata": {
        "id": "xS7J4ggs9Qb8"
      },
      "source": [
        "## Exercise 4:\n",
        "\n",
        "ฟังก์ชันข้างล่างนี้มีหน้าที่เปลี่ยนค่าความน่าจะเป็นที่ได้ให้เป็นการแบ่งกลุ่ม (0 หรือ 1) จงเติมส่วนที่หายไปในฟังก์ชันข้างล่างนี้ให้สมบูรณ์"
      ]
    },
    {
      "cell_type": "code",
      "source": [
        "def classify(y_pred):\n",
        "  '''\n",
        "  y_pred: numpy array of probabilities (จาก logit_fitted.predict)\n",
        "  Return: list/array ของคลาสที่คาดการณ์ (0/1) โดยใช้ threshold = 0.5\n",
        "  '''\n",
        "  y_pred = np.asarray(y_pred).ravel()\n",
        "  N = y_pred.shape[0] #number of observations\n",
        "  results = [] #array of classifications\n",
        "\n",
        "  for prob in y_pred:\n",
        "    if prob >= 0.5:\n",
        "      results.append(1)\n",
        "    else:\n",
        "      results.append(0)\n",
        "\n",
        "  return results\n",
        "\n",
        "#Test\n",
        "print(classify(np.array([0.2,0.4,0.8]))) #should return [0,0,1]\n",
        "print(classify(np.array([0.8,0.6,0.1]))) #should return [1,1,0]"
      ],
      "metadata": {
        "id": "KdxqUhtQTXA0"
      },
      "execution_count": null,
      "outputs": []
    },
    {
      "cell_type": "markdown",
      "metadata": {
        "id": "GvS9nGwiDqxd"
      },
      "source": [
        "## Exercise 5:\n",
        "\n",
        "จงแสดงการแบ่งกลุ่ม (classification) ที่ได้จากโมเดล `logit_fitted` ในพื้นที่ข้างล่างนี้\n"
      ]
    },
    {
      "cell_type": "code",
      "execution_count": null,
      "metadata": {
        "id": "POfhp9ozAvHu"
      },
      "outputs": [],
      "source": [
        "probs_stats = logit_fitted.predict(X_s)\n",
        "\n",
        "y_pred_stats = np.array(classify(probs_stats))\n",
        "\n",
        "print(\"First 20 class predictions:\", y_pred_stats[:20])\n",
        "\n",
        "acc_stats = accuracy(y, y_pred_stats)\n",
        "print(\"Accuracy (Logit, statsmodels):\", acc_stats)"
      ]
    }
  ],
  "metadata": {
    "colab": {
      "name": "229351-LAB12.ipynb",
      "provenance": [],
      "include_colab_link": true
    },
    "kernelspec": {
      "display_name": "Python 3 (ipykernel)",
      "language": "python",
      "name": "python3"
    },
    "language_info": {
      "codemirror_mode": {
        "name": "ipython",
        "version": 3
      },
      "file_extension": ".py",
      "mimetype": "text/x-python",
      "name": "python",
      "nbconvert_exporter": "python",
      "pygments_lexer": "ipython3",
      "version": "3.10.12"
    }
  },
  "nbformat": 4,
  "nbformat_minor": 0
}