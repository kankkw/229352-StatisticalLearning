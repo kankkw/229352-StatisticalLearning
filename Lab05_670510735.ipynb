{
  "cells": [
    {
      "cell_type": "markdown",
      "metadata": {
        "id": "view-in-github",
        "colab_type": "text"
      },
      "source": [
        "<a href=\"https://colab.research.google.com/github/kankkw/229352-StatisticalLearning/blob/main/Lab05_670510735.ipynb\" target=\"_parent\"><img src=\"https://colab.research.google.com/assets/colab-badge.svg\" alt=\"Open In Colab\"/></a>"
      ]
    },
    {
      "cell_type": "markdown",
      "metadata": {
        "id": "rUWDxJYaXbGS"
      },
      "source": [
        "ปฏิบัติการครั้งที่ 5 กระบวนวิชา 229351 Statistical Learning for Data Science\n",
        "\n",
        "คำชี้แจง\n",
        "\n",
        "ให้เริ่มทำปฏิบัติการจาก colab notebook ที่กำหนดให้ จากนั้น share แล้วส่ง link มาใน mango.cmu.ac.th"
      ]
    },
    {
      "cell_type": "markdown",
      "metadata": {
        "id": "BFeBRlckOxSG"
      },
      "source": [
        "ดาวน์โหลดข้อมูลรถยนต์ชนิดต่างใน link ข้างล่างนี้\n",
        "https://donlapark.pages.dev/229351/data/Auto.csv\n",
        "หรือรันโค้ดข้างล่าง"
      ]
    },
    {
      "cell_type": "code",
      "execution_count": null,
      "metadata": {
        "id": "ntO6KNB7A24q"
      },
      "outputs": [],
      "source": [
        "!wget https://donlapark.pages.dev/229351/data/Auto.csv"
      ]
    },
    {
      "cell_type": "code",
      "execution_count": null,
      "metadata": {
        "id": "5Tebr3-dBKxj"
      },
      "outputs": [],
      "source": [
        "import numpy as np\n",
        "import pandas as pd\n",
        "from scipy import stats"
      ]
    },
    {
      "cell_type": "code",
      "execution_count": null,
      "metadata": {
        "id": "O_4Mr2OWaAae"
      },
      "outputs": [],
      "source": [
        "# อ่านไฟล์ csv ก่อนเพื่อหา missing values\n",
        "auto_df = pd.read_csv('Auto.csv',na_values=[\"?\"])\n",
        "predictor_names = auto_df.columns\n",
        "\n",
        "# ลบแถวที่มี missing values\n",
        "auto_df = auto_df.dropna()\n",
        "auto_df.head()"
      ]
    },
    {
      "cell_type": "markdown",
      "metadata": {
        "id": "es1_uN5S94_7"
      },
      "source": [
        "### ตัวแปรต่าง ๆ มีดังนี้\n",
        "mpg\n",
        "\n",
        "    miles per gallon\n",
        "cylinders\n",
        "\n",
        "    Number of cylinders between 4 and 8\n",
        "displacement\n",
        "\n",
        "    Engine displacement (cu. inches)\n",
        "horsepower\n",
        "\n",
        "    Engine horsepower\n",
        "weight\n",
        "\n",
        "    Vehicle weight (lbs.)\n",
        "acceleration\n",
        "\n",
        "    Time to accelerate from 0 to 60 mph (sec.)\n",
        "year\n",
        "\n",
        "    Model year (modulo 100)\n",
        "origin\n",
        "\n",
        "    Origin of car (1. American, 2. European, 3. Japanese)\n",
        "name\n",
        "\n",
        "    Vehicle name\n"
      ]
    },
    {
      "cell_type": "code",
      "execution_count": null,
      "metadata": {
        "id": "XlOmwZlvQXAR"
      },
      "outputs": [],
      "source": [
        "auto_df = auto_df.drop(['name', 'origin'],axis=1)\n",
        "\n",
        "auto_df.head()"
      ]
    },
    {
      "cell_type": "markdown",
      "metadata": {
        "id": "Mo4ddcb7BZj4"
      },
      "source": [
        "## 1. Multivariate linear regression\n",
        "\n",
        "เปลี่ยน $\\texttt{dataframe}$ ให้เป็น numpy array ด้วย `dataframe.to_numpy()`\n",
        "\n",
        "1. Response: $\\texttt{y}$ เป็นคอลัมน์เวกเตอร์ของ `mpg`\n",
        "2. Predictors: $\\texttt{X}$ เป็นเมทริกซ์ของตัวแปรที่เหลือ (ใช้ `auto_df.drop`)\n"
      ]
    },
    {
      "cell_type": "code",
      "execution_count": null,
      "metadata": {
        "id": "6njJmujsAUNv"
      },
      "outputs": [],
      "source": [
        "y = auto_df['mpg'].to_numpy()\n",
        "X = auto_df.drop(['mpg'],axis=1).to_numpy()"
      ]
    },
    {
      "cell_type": "markdown",
      "metadata": {
        "id": "H5CxnhqJEmUN"
      },
      "source": [
        "คอลัมน์แรกของ $\\texttt{X}$ ต้องเป็น $(1, 1, \\ldots ,1 )^T$ (จำนวนเลข 1 เท่ากับจำนวนแถวของ $\\texttt{X}$)  \n",
        "สร้างเวกเตอร์ที่มีแต่เลข 1 และมีความยาวที่เหมาะสมด้วยคำสั่งใดคำสั่งหนึ่งต่อไปนี้  \n",
        "1. $\\texttt{[1]*X.shape[0]}$  \n",
        "2. $\\texttt{np.ones(X.shape[0])}$  "
      ]
    },
    {
      "cell_type": "code",
      "execution_count": null,
      "metadata": {
        "id": "zoO80UAEm6g5"
      },
      "outputs": [],
      "source": [
        "X.shape"
      ]
    },
    {
      "cell_type": "code",
      "execution_count": null,
      "metadata": {
        "id": "kD8uzgohDRIX"
      },
      "outputs": [],
      "source": [
        "ones =  [1]*X.shape[0] #your answer here\n",
        "\n",
        "# ใส่ ones ให้เป็นคอลัมน์แรกของ X\n",
        "X = np.c_[ones,X]"
      ]
    },
    {
      "cell_type": "code",
      "execution_count": null,
      "metadata": {
        "id": "yyk9EnXdD0ZU"
      },
      "outputs": [],
      "source": [
        "#เช็คคำตอบ\n",
        "print(X)"
      ]
    },
    {
      "cell_type": "markdown",
      "metadata": {
        "id": "OpwWL1ZIQK4n"
      },
      "source": [
        "### Exercise 1: จงเขียนฟังก์ชันต่อไปนี้\n",
        "1. `linear_model` มี input เป็นแมทริกซ์ `X` เวกเตอร์ `y` และ output เป็นเวกเตอร์ของสัมประสิทธิ์\n",
        "2. `predict` มี input เป็นแมทริกซ์ `X` เวกเตอร์ของสัมประสิทธิ์ `beta` และ output เป็นเวกเตอร์ของค่าทำนาย `y_pred`"
      ]
    },
    {
      "cell_type": "markdown",
      "metadata": {
        "id": "DntRinCFiSMx"
      },
      "source": [
        "1. Matrix multiplication $AB = \\texttt{A@B}$\n",
        "2. Transpose: $X^T = \\texttt{X.T}$\n",
        "3. Inverse: $X^{-1} = \\texttt{np.linalg.inv(X)}$\n",
        "\n",
        "$$ \\hat{\\beta} = (X^TX)^{-1}X^Ty $$"
      ]
    },
    {
      "cell_type": "code",
      "execution_count": null,
      "metadata": {
        "id": "-gCRXKb8fkuH"
      },
      "outputs": [],
      "source": [
        "# Let's start by implementing linear regression from scratch\n",
        "# using the formula provided in the class\n",
        "\n",
        "def linear_model(X, y):\n",
        "    \"\"\"X: เมทริกซ์ของตัวแปรต้น\"\"\"\n",
        "    \"\"\"y: เวกเตอร์ของตัวแปรตาม\"\"\"\n",
        "    \"\"\"Return: เวกเตอร์ของ parameter beta จากการสร้าง linear regressions model\n",
        "    ด้วย Ordinary Least Squares (OLS)\"\"\"\n",
        "    # TODO: your code here\n",
        "\n",
        "\n",
        "    return beta\n",
        "\n",
        "\n",
        "def predict(X, beta):\n",
        "    \"\"\"beta: array ของสัมประสิทธิ์\"\"\"\n",
        "    \"\"\"X: เมทริกซ์ของตัวแปรต้น\"\"\"\n",
        "    \"\"\"Return: ค่าทำนาย y_pred = X*beta \"\"\"\n",
        "    # TODO: your code here\n",
        "\n",
        "\n",
        "    return y_pred"
      ]
    },
    {
      "cell_type": "code",
      "execution_count": null,
      "metadata": {
        "id": "-QbEbw2lpYI-"
      },
      "outputs": [],
      "source": [
        "beta = linear_model(X, y)\n",
        "y_pred = predict(X, beta)\n",
        "\n",
        "print(\"Coefficients are:\", beta)\n",
        "print(\"Predictions are:\", y_pred)"
      ]
    },
    {
      "cell_type": "markdown",
      "metadata": {
        "id": "L1UMYiD5q5bq"
      },
      "source": [
        "#### จงหา $n$ (จำนวนแถวของ $\\texttt{X}$) และ $p$ (จำนวนตัวแปร) ด้วย method $\\texttt{X.shape[...]}$"
      ]
    },
    {
      "cell_type": "code",
      "execution_count": null,
      "metadata": {
        "id": "_vthb9XCiYfo"
      },
      "outputs": [],
      "source": [
        "n = X.shape[0]\n",
        "\n",
        "p = X.shape[1]-1\n",
        "\n",
        "print('Number of observations:', n)\n",
        "print('Number of variables:', p)"
      ]
    },
    {
      "cell_type": "markdown",
      "metadata": {
        "id": "o3U59dmbQK4o"
      },
      "source": [
        "## 2. F-statistic\n",
        "\n",
        "### Exercise 2: เขียนสมมติฐานหลัก ($H_0$) และสมมติฐานแย้ง ($H_a$) ที่ใช้ F-statistic ในการทดสอบ"
      ]
    },
    {
      "cell_type": "markdown",
      "metadata": {
        "id": "CXMbHUAPQK4o"
      },
      "source": [
        "### Exercise 3: จากเวกเตอร์ของ outcomes `y` คำนวณ Total Sum of Squares (TSS)"
      ]
    },
    {
      "cell_type": "markdown",
      "metadata": {
        "id": "wbRqP-L9qFRX"
      },
      "source": [
        "$$ \\text{TSS} = \\sum_{i=1}^n (y_i-\\bar{y})^2 $$\n",
        "\n",
        "$$ \\text{RSS} = \\sum_{i=1}^n (y_i-\\hat{y})^2 $$\n",
        "โดยใช้คำสั่งต่อไปนี้\n",
        "\n",
        "$\\texttt{np.sum}([y_1,y_2,...,y_n])=y_1+y_2+...+y_n$\n",
        "\n",
        "$\\texttt{np.square}([y_1,y_2,...,y_n])=[y_1^2,y^2_2,...,y^2_n]$"
      ]
    },
    {
      "cell_type": "code",
      "execution_count": null,
      "metadata": {
        "id": "pYAI-2fhqFvx"
      },
      "outputs": [],
      "source": [
        "# Calculate Total Sum of Squares\n",
        "y_mean = y.mean()\n",
        "\n",
        "TSS = # TODO: your code here\n",
        "\n",
        "RSS = np.sum(np.square(y-y_pred))"
      ]
    },
    {
      "cell_type": "markdown",
      "metadata": {
        "id": "COSxovBLMkr8"
      },
      "source": [
        "คำนวณ $F$-statistic ด้วย\n",
        "$$F_{p,n-p-1} = \\frac{(\\text{TSS}-\\text{RSS})/p}{\\text{RSS}/(n-p-1)}$$\n",
        "หา $n$ และจำนวนของตัวแปร $p$ ด้วย $\\texttt{X.shape}[\\cdot]$"
      ]
    },
    {
      "cell_type": "markdown",
      "metadata": {
        "id": "JOSgyXqzQK4p"
      },
      "source": [
        "### Exercise 4: คำนวณค่า F"
      ]
    },
    {
      "cell_type": "code",
      "execution_count": null,
      "metadata": {
        "id": "m7qCrrgpPiy9"
      },
      "outputs": [],
      "source": [
        "F =\n",
        "\n",
        "print(F)"
      ]
    },
    {
      "cell_type": "code",
      "execution_count": null,
      "metadata": {
        "id": "4OcMtqBPQI5V"
      },
      "outputs": [],
      "source": [
        "# Compute p_value of the F-statistic\n",
        "\n",
        "p_value = stats.f.sf(F, p, n-p-1)\n",
        "\n",
        "print(p_value)"
      ]
    },
    {
      "cell_type": "markdown",
      "metadata": {
        "id": "x5ymukiLQuTt"
      },
      "source": [
        "### Exercise 5: จากการทดสอบสมมติฐานที่นัยสำคัญ 0.05 เราได้ข้อสรุปอย่างไรจากค่า p-value ที่ได้ข้างบน"
      ]
    },
    {
      "cell_type": "markdown",
      "metadata": {
        "id": "fxz0W6YlRyTj"
      },
      "source": [
        "### คำตอบของ Exercise 5:\n",
        "\n",
        "\n"
      ]
    },
    {
      "cell_type": "markdown",
      "metadata": {
        "id": "iLm_WXA7ryIl"
      },
      "source": [
        "## 3. คำนวณ $t$-statistic\n",
        "\n",
        "#### ขั้นตอนในการคำนวณ $t$-statistic\n",
        "\n",
        "\\begin{align*}\n",
        "\\text{RSE} &= \\sqrt{\\frac{\\text{RSS}}{n-p-1}} \\\\\n",
        "\\text{SE}(\\hat{\\beta}) &=\\text{RSE}\\cdot\\sqrt{\\text{diag}\\left( (X^TX)^{-1}\\right)} \\\\\n",
        "t &= \\frac{\\hat{\\beta}}{\\text{SE}(\\hat{\\beta})}\n",
        "\\end{align*}"
      ]
    },
    {
      "cell_type": "code",
      "execution_count": null,
      "metadata": {
        "id": "IJwkRoYlt8U_"
      },
      "outputs": [],
      "source": [
        "def t_to_p_values(t_statistics):\n",
        "    \"\"\"t_statistics: numpy array ของค่า t-statistic ของตัวแปรต่างๆ\n",
        "    Return: เวกเตอร์ของค่า p-value ของค่า t-statistic ที่ให้มา\"\"\"\n",
        "    return stats.t.sf(np.abs(t_statistics), n-p-1)*2\n",
        "\n",
        "# Standard error of each variable in X\n",
        "p = t_to_p_values(t)"
      ]
    },
    {
      "cell_type": "markdown",
      "metadata": {
        "id": "8MCW1k6rQK4s"
      },
      "source": [
        "### Exercise 6: จงใช้ฟังก์ชัน `t_to_p_values` ในการหาว่ามีตัวแปรใดบ้างที่มีค่า p-value น้อยกว่า 0.05 **แล้วระบุตัวแปรทั้งหมดใน text block ข้างล่าง**  \n",
        "\n",
        "#### ใช้คำสั่ง `A.diagonal()` เพื่อดึงค่าในแนวทแยงของ `A`"
      ]
    },
    {
      "cell_type": "code",
      "source": [
        "def t_to_p_values(t_statistics):\n",
        "    \"\"\"รับเวกเตอร์ค่า t แล้วคืนค่า p-value แบบสองด้าน\"\"\"\n",
        "    return stats.t.sf(np.abs(t_statistics), n - p - 1) * 2\n",
        "\n",
        "XtX_inv = np.linalg.inv(X.T @ X)\n",
        "RSE = np.sqrt(RSS / (n - p - 1))\n",
        "SE = RSE * np.sqrt(np.diag(XtX_inv))\n",
        "t_stats = beta / SE\n",
        "t_pvals = t_to_p_values(t_stats)\n",
        "\n",
        "list(\n",
        "    zip(\n",
        "        ['const'] + auto_df.drop(['mpg'], axis=1).columns.tolist(),\n",
        "        beta, SE, t_stats, t_pvals\n",
        "    )\n",
        ")"
      ],
      "metadata": {
        "id": "3YVfkS6MQgxR"
      },
      "execution_count": null,
      "outputs": []
    },
    {
      "cell_type": "markdown",
      "metadata": {
        "id": "IZTq_ONpQK4s"
      },
      "source": [
        "list ชื่อตัวแปร"
      ]
    },
    {
      "cell_type": "code",
      "source": [
        "print(\"List of predictors:\", auto_df.drop(['mpg'], axis=1).columns.tolist())"
      ],
      "metadata": {
        "id": "shoX4aBUSUST"
      },
      "execution_count": null,
      "outputs": []
    },
    {
      "cell_type": "markdown",
      "metadata": {
        "id": "61K108Bjcjw5"
      },
      "source": [
        "### คำตอบของ Exercise 6:\n",
        "\n",
        "\n",
        "\n"
      ]
    },
    {
      "cell_type": "markdown",
      "source": [
        "ตัวแปรทั้งหมด : X, y, beta, SE, t_stats, t_pvals, RSS, n, p"
      ],
      "metadata": {
        "id": "Ck_55jGrTMrB"
      }
    },
    {
      "cell_type": "markdown",
      "source": [],
      "metadata": {
        "id": "it2jriYYSb04"
      }
    },
    {
      "cell_type": "markdown",
      "metadata": {
        "id": "kvxBs5Hlk5rZ"
      },
      "source": [
        "## 4. Variable selection\n",
        "\n",
        "#### statsmodels library สามารถคำนวณค่าต่างๆ เหล่านี้ได้ ผลที่แสดงจะคล้ายกับใน R  \n",
        "#### มีสองวิธึในการทำ linear regression: $\\texttt{statsmodels.api.sm.OLS}$\n",
        "#### และ $\\texttt{statsmodels.formula.api.smf.ols}$"
      ]
    },
    {
      "cell_type": "code",
      "execution_count": null,
      "metadata": {
        "id": "2srU_UiTbhS9"
      },
      "outputs": [],
      "source": [
        "import statsmodels.api as sm\n",
        "\n",
        "X = auto_df.drop(['mpg'], axis=1)\n",
        "X = sm.add_constant(X)     # add bias constant\n",
        "y = auto_df['mpg']\n",
        "\n",
        "model = sm.OLS(y, X).fit()\n",
        "print(model.summary())"
      ]
    },
    {
      "cell_type": "code",
      "execution_count": null,
      "metadata": {
        "id": "Q6lBipWcQK40"
      },
      "outputs": [],
      "source": [
        "import statsmodels.formula.api as smf\n",
        "\n",
        "model2 = smf.ols('mpg ~ cylinders + displacement + horsepower + weight + acceleration + year', auto_df)\n",
        "model2 = model2.fit()\n",
        "print(model2.summary())"
      ]
    },
    {
      "cell_type": "markdown",
      "metadata": {
        "id": "JlzSWUWZQK41"
      },
      "source": [
        "### Exercise 7: ใช้ Backward selection ในการเลือกตัวแปร โดยที่เราจะหยุดเมื่อ p-value สของตัวแปรทุกตัว < 0.05 แล้วเขียนสมการของโมเดลที่ได้"
      ]
    },
    {
      "cell_type": "code",
      "execution_count": null,
      "metadata": {
        "id": "vFTE0QLSQK42"
      },
      "outputs": [],
      "source": [
        "import pandas as pd\n",
        "import statsmodels.formula.api as smf\n",
        "\n",
        "auto_df = pd.read_csv('/mnt/data/Auto.csv')\n",
        "\n",
        "auto_df['horsepower'] = pd.to_numeric(auto_df['horsepower'], errors='coerce')\n",
        "auto_df = auto_df.dropna()\n",
        "\n",
        "predictors = ['cylinders', 'displacement', 'horsepower', 'weight', 'acceleration', 'year']\n",
        "formula = 'mpg ~ ' + ' + '.join(predictors)\n",
        "model = smf.ols(formula=formula, data=auto_df).fit()\n",
        "\n",
        "while True:\n",
        "    pvalues = model.pvalues.drop('Intercept')\n",
        "    max_p = pvalues.max()\n",
        "    if max_p > 0.05:\n",
        "        remove_var = pvalues.idxmax()\n",
        "        predictors.remove(remove_var)\n",
        "        formula = 'mpg ~ ' + ' + '.join(predictors)\n",
        "        model = smf.ols(formula=formula, data=auto_df).fit()\n",
        "    else:\n",
        "        break\n",
        "\n",
        "print(model.summary())\n",
        "\n",
        "coefs = model.params\n",
        "equation = \"y = \" + \" + \".join([f\"{coefs[i]:.4f}*{i}\" if i != \"Intercept\" else f\"{coefs[i]:.4f}\" for i in coefs.index])\n",
        "print(\"\\nสมการที่ได้คือ:\\n\", equation)"
      ]
    },
    {
      "cell_type": "code",
      "execution_count": null,
      "metadata": {
        "id": "iTHP5UqsQK43"
      },
      "outputs": [],
      "source": [
        "# If you want to write with for-loop\n",
        "\n",
        "print(model2.tvalues)\n",
        "print(\"t-value of weight:\", model2.tvalues[\"weight\"])"
      ]
    },
    {
      "cell_type": "markdown",
      "metadata": {
        "id": "QoN_pb5tQK44"
      },
      "source": [
        "### คำตอบของ Exercise 7:\n",
        "\n",
        "$$\n",
        "y =\n",
        "$$"
      ]
    },
    {
      "cell_type": "markdown",
      "source": [
        "y = -14.3473 - 0.0066 • weight + 0.7573 • year"
      ],
      "metadata": {
        "id": "dFbrMt0HRdTg"
      }
    }
  ],
  "metadata": {
    "colab": {
      "name": "229351-LAB06.ipynb",
      "provenance": [],
      "include_colab_link": true
    },
    "kernelspec": {
      "display_name": "Python 3 (ipykernel)",
      "language": "python",
      "name": "python3"
    },
    "language_info": {
      "codemirror_mode": {
        "name": "ipython",
        "version": 3
      },
      "file_extension": ".py",
      "mimetype": "text/x-python",
      "name": "python",
      "nbconvert_exporter": "python",
      "pygments_lexer": "ipython3",
      "version": "3.10.12"
    }
  },
  "nbformat": 4,
  "nbformat_minor": 0
}