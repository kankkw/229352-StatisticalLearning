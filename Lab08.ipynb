{
  "cells": [
    {
      "cell_type": "markdown",
      "metadata": {
        "id": "view-in-github",
        "colab_type": "text"
      },
      "source": [
        "<a href=\"https://colab.research.google.com/github/kankkw/229352-StatisticalLearning/blob/main/Lab08.ipynb\" target=\"_parent\"><img src=\"https://colab.research.google.com/assets/colab-badge.svg\" alt=\"Open In Colab\"/></a>"
      ]
    },
    {
      "cell_type": "markdown",
      "metadata": {
        "id": "rUWDxJYaXbGS"
      },
      "source": [
        "### ปฏิบัติการครั้งที่ 8\n",
        "\n",
        "ดาวน์โหลดข้อมูลอุณหภูมิสูงสุดรายวันปี 1998-2019 จาก link ข้างล่างนี้  \n",
        "https://donlapark.pages.dev/229351/data/CM_temp.csv\n",
        "\n",
        "1. เปลี่ยนจากข้อมูลรายวันให้เป็นข้อมูลค่าเฉลี่ยรายเดือน\n",
        "2. จงแบ่งข้อมูลโดยให้ Test set เป็นข้อมูลของ 24 เดือนสุดท้ายและ Training set เป็นข้อมูลก่อนหน้าทั้งหมด\n",
        "3. ลองสร้างโมเดล Holt-Winters แบบต่างๆ (damped, non-damped, additive, multiplicative etc.) แล้วระบุโมเดลที่ดีที่ให้ค่า RMSE บน test set น้อยที่สุด\n",
        "4. จงแสดงแผนภาพของข้อมูลจริงกับข้อมูลที่ได้ในข้อ 3"
      ]
    },
    {
      "cell_type": "code",
      "execution_count": null,
      "metadata": {
        "id": "ntO6KNB7A24q"
      },
      "outputs": [],
      "source": [
        "!wget -O CM_temp.csv https://donlapark.pages.dev/229351/data/CM_temp.csv"
      ]
    },
    {
      "cell_type": "code",
      "execution_count": null,
      "metadata": {
        "id": "5Tebr3-dBKxj"
      },
      "outputs": [],
      "source": [
        "# import module ที่ต้องใช้\n",
        "import numpy as np\n",
        "import pandas as pd\n",
        "import matplotlib.pyplot as plt\n",
        "from statsmodels.tsa.holtwinters import ExponentialSmoothing\n",
        "from datetime import datetime"
      ]
    },
    {
      "cell_type": "code",
      "execution_count": null,
      "metadata": {
        "id": "gG3PB_P7yZBH"
      },
      "outputs": [],
      "source": [
        "# ฟังก์ชันที่เปลี่ยน string ให้เป็น datetime\n",
        "def parser(dates):\n",
        "  return datetime.strptime(dates, '%Y-%m-%d')\n",
        "\n",
        "# parse_dates ชื่อของคอลัมน์ที่จะเปลี่ยนให้เป็น datetime\n",
        "# index_col ชื่อของคอลัมน์ที่จะให้เป็น index\n",
        "# date_parser ฟังก์ชันที่เปลี่ยน string ให้เป็น datetime\n",
        "data = pd.read_csv('CM_temp.csv', parse_dates=['Date'],\n",
        "                                        index_col='Date',\n",
        "                                        date_parser=parser)\n",
        "\n",
        "data.tail()"
      ]
    },
    {
      "cell_type": "markdown",
      "metadata": {
        "id": "7Mow9q7kyZni"
      },
      "source": [
        "ข้อมูลที่ได้เป็นข้อมูลรายวัน ทำการหาค่าเฉลี่ยรายเดือนด้วย method `resample`"
      ]
    },
    {
      "cell_type": "code",
      "execution_count": null,
      "metadata": {
        "id": "2SAbpyMIz7R8"
      },
      "outputs": [],
      "source": [
        "data_monthly = data['MaxTemp'].resample(\"M\").mean()\n",
        "\n",
        "data_monthly.head()"
      ]
    },
    {
      "cell_type": "code",
      "execution_count": null,
      "metadata": {
        "id": "2Pw4z4ueEYwp"
      },
      "outputs": [],
      "source": [
        "def rmse(y_true,y_pred):\n",
        "  # Inputs\n",
        "  # y_true: actual value, y_pred: predicted values\n",
        "  # Output: RMSE between y_true and y_pred\n",
        "  return np.sqrt(np.mean(np.square(y_true-y_pred)))"
      ]
    },
    {
      "cell_type": "code",
      "execution_count": null,
      "metadata": {
        "id": "d-JpJ1qibCYN"
      },
      "outputs": [],
      "source": [
        "results = {}\n",
        "configs = [\n",
        "    ('additive', False),\n",
        "    ('multiplicative', False),\n",
        "    ('additive', True),\n",
        "    ('multiplicative', True)\n",
        "]\n",
        "\n",
        "for seasonal, damped in configs:\n",
        "    model = ExponentialSmoothing(train,\n",
        "                                 trend='add',\n",
        "                                 seasonal=seasonal,\n",
        "                                 seasonal_periods=12,\n",
        "                                 damped_trend=damped).fit()\n",
        "\n",
        "    pred = model.forecast(24)\n",
        "    error = rmse(test, pred)\n",
        "    results[(seasonal, damped)] = (error, model, pred)\n",
        "\n",
        "best_cfg = min(results, key=lambda x: results[x][0])\n",
        "best_rmse, best_model, best_pred = results[best_cfg]\n",
        "\n",
        "print(\"\\nBest Model:\", best_cfg)\n",
        "print(\"Best RMSE:\", best_rmse)\n",
        "\n",
        "plt.figure(figsize=(12,6))\n",
        "plt.plot(train.index, train, label='Training')\n",
        "plt.plot(test.index, test, label='Test', color='orange')\n",
        "plt.plot(test.index, best_pred, label=f'Forecast ({best_cfg})', color='red')\n",
        "plt.title('Holt-Winters Forecast vs Actual')\n",
        "plt.legend()\n",
        "plt.show()\n",
        "\n",
        "rmse_summary = pd.DataFrame({\n",
        "    'Seasonal': [cfg[0] for cfg in results.keys()],\n",
        "    'Damped': [cfg[1] for cfg in results.keys()],\n",
        "    'RMSE': [results[cfg][0] for cfg in results.keys()]\n",
        "}).sort_values(by='RMSE')\n",
        "\n",
        "print(\"\\nRMSE Summary of All Models:\")\n",
        "print(rmse_summary)"
      ]
    }
  ],
  "metadata": {
    "colab": {
      "name": "229351-LAB10-02.ipynb",
      "provenance": [],
      "include_colab_link": true
    },
    "kernelspec": {
      "display_name": "Python 3 (ipykernel)",
      "language": "python",
      "name": "python3"
    },
    "language_info": {
      "codemirror_mode": {
        "name": "ipython",
        "version": 3
      },
      "file_extension": ".py",
      "mimetype": "text/x-python",
      "name": "python",
      "nbconvert_exporter": "python",
      "pygments_lexer": "ipython3",
      "version": "3.10.12"
    }
  },
  "nbformat": 4,
  "nbformat_minor": 0
}